{
 "cells": [
  {
   "cell_type": "code",
   "execution_count": null,
   "id": "e0d375bf",
   "metadata": {},
   "outputs": [],
   "source": [
    "import matplotlib.pyplot as plt\n",
    "from sklearn.svm import SVC\n",
    "from sklearn.model_selection import train_test_split\n",
    "from svm_visualization import draw_boundary\n",
    "from players import aaron_judge, jose_altuve, david_ortiz\n",
    "\n",
    "fig, ax = plt.subplots()\n",
    "# view data\n",
    "# print(aaron_judge.head())\n",
    "# print(aaron_judge.description.unique())\n",
    "# print(aaron_judge.type.unique())\n",
    "# # replace s to 1 and b to in type column\n",
    "# aaron_judge['type'] = aaron_judge['type'].map({'S':1, 'B':0})\n",
    "# # print(aaron_judge.type.unique())\n",
    "# print(aaron_judge.plate_x)\n",
    "# # drop missing values\n",
    "# aaron_judge = aaron_judge.dropna(subset = ['plate_x', 'plate_z', 'type'])\n",
    "# # build graph\n",
    "# plt.scatter(aaron_judge.plate_x,aaron_judge.plate_z,c =aaron_judge.type,cmap =plt.cm.coolwarm , alpha = 0.25)\n",
    "# # seperate training and validation data\n",
    "# training_set , validation_set =train_test_split(aaron_judge,random_state = 1)\n",
    "# # create classifier\n",
    "# classifier =SVC(kernel =\"rbf\",gamma = 2.5, C = 2.9)\n",
    "# classifier.fit(training_set[['plate_x', 'plate_z']],training_set[\"type\"])\n",
    "# # codecademy boundary code\n",
    "# draw_boundary(ax,classifier)\n",
    "# # check clasifier score\n",
    "# print(classifier.score(validation_set[['plate_x', 'plate_z']],validation_set[\"type\"]))\n",
    "# plt.show()\n",
    "\n",
    "\n",
    "# try with jose_altuve data\n",
    "# replace s to 1 and b to in type column\n",
    "jose_altuve['type'] = jose_altuve['type'].map({'S':1, 'B':0})\n",
    "# print(aaron_judge.type.unique())\n",
    "# print(jose_altuve.plate_x)\n",
    "# drop missing values\n",
    "jose_altuve = jose_altuve.dropna(subset = ['plate_x', 'plate_z', 'type'])\n",
    "# build graph\n",
    "plt.scatter(jose_altuve.plate_x,jose_altuve.plate_z,c =jose_altuve.type,cmap =plt.cm.coolwarm , alpha = 0.25)\n",
    "# seperate training and validation data\n",
    "training_set , validation_set =train_test_split(jose_altuve,random_state = 1)\n",
    "# create classifier\n",
    "classifier =SVC(kernel =\"rbf\",gamma = 2.5, C = 2.9)\n",
    "classifier.fit(training_set[['plate_x', 'plate_z']],training_set[\"type\"])\n",
    "# codecademy boundary code\n",
    "draw_boundary(ax,classifier)\n",
    "# check clasifier score\n",
    "print(classifier.score(validation_set[['plate_x', 'plate_z']],validation_set[\"type\"]))\n",
    "ax.set_ylim(-2, 6)\n",
    "ax.set_xlim(-3, 3)\n",
    "plt.show()\n"
   ]
  },
  {
   "cell_type": "code",
   "execution_count": null,
   "id": "75d77f3c",
   "metadata": {},
   "outputs": [],
   "source": []
  }
 ],
 "metadata": {
  "kernelspec": {
   "display_name": "Python 3",
   "language": "python",
   "name": "python3"
  },
  "language_info": {
   "codemirror_mode": {
    "name": "ipython",
    "version": 3
   },
   "file_extension": ".py",
   "mimetype": "text/x-python",
   "name": "python",
   "nbconvert_exporter": "python",
   "pygments_lexer": "ipython3",
   "version": "3.8.8"
  }
 },
 "nbformat": 4,
 "nbformat_minor": 5
}
